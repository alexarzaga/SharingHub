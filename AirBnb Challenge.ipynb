{
 "cells": [
  {
   "cell_type": "markdown",
   "metadata": {},
   "source": [
    "# AirBnb Challenge\n",
    "## What's the most expensive listing? What else can you tell me about the listing?\n",
    "```python\n",
    "SELECT\n",
    "\tl.id,\n",
    "\tl.neighbourhood,\n",
    "\tl.room_type,\n",
    "\tl.price,\n",
    "\tl.minimum_nights,\n",
    "\tr.review_date,\n",
    "\tr.reviewer_id,\n",
    "\tr.comments\n",
    "FROM\n",
    "\tsfo_listings l\n",
    "JOIN\n",
    "\tsfo_reviews r\n",
    "ON\n",
    "\tl.id = r.listing_id\n",
    "ORDER BY\n",
    "\tprice DESC\n",
    "LIMIT 4;\n",
    "```\n",
    "\n",
    "By doing a join of the listings table and the reviews table, we are able to gather significant data on the most expensive listing. Including: Which neighbourhood it is in, the type of room, the price, the minimum number of nights allowed, the reveiwer id, the date of the review, and the comments. \n",
    "\n",
    "## What neighborhoods seem to be the most popular?\n",
    "``` python\n",
    "SELECT\n",
    "\tneighbourhood,\n",
    "\tCOUNT(neighbourhood) neighbourhood_count\n",
    "FROM\n",
    "\tSFO_listings\n",
    "GROUP BY 1\n",
    "ORDER BY neighbourhood_count DESC\n",
    "LIMIT 10;\n",
    "```\n",
    "This is simple SQL code that allows me to see the top ten neighborhoods in San Fransisco with the most listings in that neighbourhood. Although this does not necessarily mean the neighborhood is popular. But we can assume since there are more listings in that neighbourhood it is more popular.\n",
    "\n",
    "## What time of year is the cheapest time to go to San Francisco? What about the busiest?\n",
    "\n"
   ]
  },
  {
   "cell_type": "code",
   "execution_count": null,
   "metadata": {},
   "outputs": [],
   "source": []
  }
 ],
 "metadata": {
  "kernelspec": {
   "display_name": "Python 3",
   "language": "python",
   "name": "python3"
  },
  "language_info": {
   "codemirror_mode": {
    "name": "ipython",
    "version": 3
   },
   "file_extension": ".py",
   "mimetype": "text/x-python",
   "name": "python",
   "nbconvert_exporter": "python",
   "pygments_lexer": "ipython3",
   "version": "3.7.1"
  }
 },
 "nbformat": 4,
 "nbformat_minor": 2
}
