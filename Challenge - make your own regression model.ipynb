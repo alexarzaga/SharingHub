{
 "cells": [
  {
   "cell_type": "code",
   "execution_count": 1,
   "metadata": {},
   "outputs": [],
   "source": [
    "import math\n",
    "import warnings\n",
    "\n",
    "from IPython.display import display\n",
    "from matplotlib import pyplot as plt\n",
    "import numpy as np\n",
    "import pandas as pd\n",
    "import seaborn as sns\n",
    "from sklearn import linear_model\n",
    "import statsmodels.formula.api as smf\n",
    "\n",
    "# Display preferences.\n",
    "%matplotlib inline\n",
    "pd.options.display.float_format = '{:.3f}'.format\n",
    "\n",
    "# Suppress annoying harmless error.\n",
    "warnings.filterwarnings(\n",
    "    action=\"ignore\",\n",
    "    module=\"scipy\",\n",
    "    message=\"^internal gelsd\"\n",
    ")"
   ]
  },
  {
   "cell_type": "code",
   "execution_count": 2,
   "metadata": {},
   "outputs": [
    {
     "data": {
      "text/html": [
       "<div>\n",
       "<style scoped>\n",
       "    .dataframe tbody tr th:only-of-type {\n",
       "        vertical-align: middle;\n",
       "    }\n",
       "\n",
       "    .dataframe tbody tr th {\n",
       "        vertical-align: top;\n",
       "    }\n",
       "\n",
       "    .dataframe thead th {\n",
       "        text-align: right;\n",
       "    }\n",
       "</style>\n",
       "<table border=\"1\" class=\"dataframe\">\n",
       "  <thead>\n",
       "    <tr style=\"text-align: right;\">\n",
       "      <th></th>\n",
       "      <th>Population</th>\n",
       "      <th>Murder</th>\n",
       "      <th>Robbery</th>\n",
       "      <th>Property crime</th>\n",
       "      <th>Population_sq</th>\n",
       "    </tr>\n",
       "  </thead>\n",
       "  <tbody>\n",
       "    <tr>\n",
       "      <th>0</th>\n",
       "      <td>1861</td>\n",
       "      <td>0</td>\n",
       "      <td>0</td>\n",
       "      <td>12</td>\n",
       "      <td>3463321</td>\n",
       "    </tr>\n",
       "    <tr>\n",
       "      <th>1</th>\n",
       "      <td>2577</td>\n",
       "      <td>0</td>\n",
       "      <td>0</td>\n",
       "      <td>24</td>\n",
       "      <td>6640929</td>\n",
       "    </tr>\n",
       "    <tr>\n",
       "      <th>2</th>\n",
       "      <td>2846</td>\n",
       "      <td>0</td>\n",
       "      <td>0</td>\n",
       "      <td>16</td>\n",
       "      <td>8099716</td>\n",
       "    </tr>\n",
       "    <tr>\n",
       "      <th>3</th>\n",
       "      <td>97956</td>\n",
       "      <td>1</td>\n",
       "      <td>1</td>\n",
       "      <td>4090</td>\n",
       "      <td>9595377936</td>\n",
       "    </tr>\n",
       "    <tr>\n",
       "      <th>4</th>\n",
       "      <td>6388</td>\n",
       "      <td>0</td>\n",
       "      <td>1</td>\n",
       "      <td>223</td>\n",
       "      <td>40806544</td>\n",
       "    </tr>\n",
       "  </tbody>\n",
       "</table>\n",
       "</div>"
      ],
      "text/plain": [
       "   Population  Murder  Robbery  Property crime  Population_sq\n",
       "0        1861       0        0              12        3463321\n",
       "1        2577       0        0              24        6640929\n",
       "2        2846       0        0              16        8099716\n",
       "3       97956       1        1            4090     9595377936\n",
       "4        6388       0        1             223       40806544"
      ]
     },
     "metadata": {},
     "output_type": "display_data"
    }
   ],
   "source": [
    "# Acquire, load, and preview the data.\n",
    "fbi = pd.read_csv('Data/fbi_after.csv')\n",
    "fbi = fbi.drop(['Unnamed: 0'], axis=1)\n",
    "display(fbi.head())"
   ]
  },
  {
   "cell_type": "code",
   "execution_count": 3,
   "metadata": {},
   "outputs": [],
   "source": [
    "from scipy import stats\n",
    "fbi = fbi[(np.abs(stats.zscore(fbi)) < 3).all(axis=1)]"
   ]
  },
  {
   "cell_type": "code",
   "execution_count": 4,
   "metadata": {},
   "outputs": [
    {
     "name": "stderr",
     "output_type": "stream",
     "text": [
      "/usr/local/lib/python3.7/site-packages/sklearn/linear_model/base.py:485: RuntimeWarning: internal gelsd driver lwork query error, required iwork dimension not returned. This is likely the result of LAPACK bug 0038, fixed in LAPACK 3.2.2 (released July 21, 2010). Falling back to 'gelss' driver.\n",
      "  linalg.lstsq(X, y)\n"
     ]
    },
    {
     "name": "stdout",
     "output_type": "stream",
     "text": [
      "\n",
      "Coefficients: \n",
      " [[1.29510871e-02 1.14920528e-07 1.95038666e+02 9.28205845e+01]]\n",
      "\n",
      "Intercept: \n",
      " [-16.81586632]\n",
      "\n",
      "R-squared:\n",
      "0.8444937611173491\n"
     ]
    },
    {
     "data": {
      "image/png": "[encoded data removed]",
      "text/plain": [
       "<Figure size 432x288 with 1 Axes>"
      ]
     },
     "metadata": {
      "needs_background": "light"
     },
     "output_type": "display_data"
    },
    {
     "data": {
      "image/png": "[encoded data removed]",
      "text/plain": [
       "<Figure size 432x288 with 1 Axes>"
      ]
     },
     "metadata": {
      "needs_background": "light"
     },
     "output_type": "display_data"
    }
   ],
   "source": [
    "# Instantiate and fit our model.\n",
    "regr = linear_model.LinearRegression()\n",
    "Y = fbi['Property crime'].values.reshape(-1, 1)\n",
    "X = fbi[['Population','Population_sq','Murder','Robbery']]\n",
    "regr.fit(X, Y)\n",
    "\n",
    "# Inspect the results.\n",
    "print('\\nCoefficients: \\n', regr.coef_)\n",
    "print('\\nIntercept: \\n', regr.intercept_)\n",
    "print('\\nR-squared:')\n",
    "print(regr.score(X, Y))\n",
    "\n",
    "# Extract predicted values.\n",
    "predicted = regr.predict(X).ravel()\n",
    "actual = fbi['Property crime']\n",
    "\n",
    "# Calculate the error, also called the residual.\n",
    "residual = actual - predicted\n",
    "\n",
    "# This looks a bit concerning.\n",
    "plt.hist(residual)\n",
    "plt.title('Residual counts')\n",
    "plt.xlabel('Residual')\n",
    "plt.ylabel('Count')\n",
    "plt.show()\n",
    "\n",
    "plt.scatter(predicted, residual)\n",
    "plt.xlabel('Predicted')\n",
    "plt.ylabel('Residual')\n",
    "plt.axhline(y=0)\n",
    "plt.title('Residual vs. Predicted')\n",
    "plt.show()"
   ]
  },
  {
   "cell_type": "code",
   "execution_count": 5,
   "metadata": {},
   "outputs": [
    {
     "data": {
      "image/png": "[encoded data removed]",
      "text/plain": [
       "<Figure size 432x288 with 1 Axes>"
      ]
     },
     "metadata": {
      "needs_background": "light"
     },
     "output_type": "display_data"
    },
    {
     "data": {
      "image/png": "[encoded data removed]",
      "text/plain": [
       "<Figure size 432x288 with 1 Axes>"
      ]
     },
     "metadata": {
      "needs_background": "light"
     },
     "output_type": "display_data"
    }
   ],
   "source": [
    "plt.hist(fbi['Property crime'])\n",
    "plt.show()\n",
    "fbi['Property crime_sqrt'] = np.sqrt(fbi['Property crime'])\n",
    "plt.hist(fbi['Property crime_sqrt'])\n",
    "plt.show()"
   ]
  },
  {
   "cell_type": "code",
   "execution_count": 7,
   "metadata": {},
   "outputs": [
    {
     "data": {
      "image/png": "[encoded data removed]",
      "text/plain": [
       "<Figure size 432x288 with 1 Axes>"
      ]
     },
     "metadata": {
      "needs_background": "light"
     },
     "output_type": "display_data"
    },
    {
     "data": {
      "image/png": "[encoded data removed]",
      "text/plain": [
       "<Figure size 432x288 with 1 Axes>"
      ]
     },
     "metadata": {
      "needs_background": "light"
     },
     "output_type": "display_data"
    },
    {
     "data": {
      "image/png": "[encoded data removed]",
      "text/plain": [
       "<Figure size 432x288 with 1 Axes>"
      ]
     },
     "metadata": {
      "needs_background": "light"
     },
     "output_type": "display_data"
    },
    {
     "data": {
      "image/png": "[encoded data removed]",
      "text/plain": [
       "<Figure size 432x288 with 1 Axes>"
      ]
     },
     "metadata": {
      "needs_background": "light"
     },
     "output_type": "display_data"
    },
    {
     "data": {
      "image/png": "[encoded data removed]",
      "text/plain": [
       "<Figure size 432x288 with 1 Axes>"
      ]
     },
     "metadata": {
      "needs_background": "light"
     },
     "output_type": "display_data"
    }
   ],
   "source": [
    "plt.hist(fbi['Population'])\n",
    "plt.show()\n",
    "fbi['Population_log'] = np.log(fbi['Population'])\n",
    "plt.hist(fbi['Population_log'])\n",
    "plt.show()\n",
    "fbi['Population_sqrt'] = np.sqrt(fbi['Population'])\n",
    "plt.hist(fbi['Population_sqrt'])\n",
    "plt.show()\n",
    "fbi['Population_sq'] = np.square(fbi['Population'])\n",
    "plt.hist(fbi['Population_sq'])\n",
    "plt.show()\n",
    "fbi['Population_logsq'] = np.square(np.log(fbi['Population']))\n",
    "plt.hist(fbi['Population_logsq'])\n",
    "plt.show()"
   ]
  },
  {
   "cell_type": "code",
   "execution_count": 8,
   "metadata": {},
   "outputs": [],
   "source": [
    "from scipy import stats\n",
    "fbi = fbi[(np.abs(stats.zscore(fbi)) < 3).all(axis=1)]"
   ]
  },
  {
   "cell_type": "code",
   "execution_count": 9,
   "metadata": {},
   "outputs": [
    {
     "name": "stdout",
     "output_type": "stream",
     "text": [
      "\n",
      "Coefficients: \n",
      " [[4.56978946e-02 2.06675736e-04 9.18230622e-01 4.28663558e+00\n",
      "  2.30762613e+00]]\n",
      "\n",
      "Intercept: \n",
      " [-5.10793152]\n",
      "\n",
      "R-squared:\n",
      "0.7704116490362856\n"
     ]
    },
    {
     "data": {
      "image/png": "[encoded data removed]",
      "text/plain": [
       "<Figure size 432x288 with 1 Axes>"
      ]
     },
     "metadata": {
      "needs_background": "light"
     },
     "output_type": "display_data"
    },
    {
     "data": {
      "image/png": "[encoded data removed]",
      "text/plain": [
       "<Figure size 432x288 with 1 Axes>"
      ]
     },
     "metadata": {
      "needs_background": "light"
     },
     "output_type": "display_data"
    }
   ],
   "source": [
    "# Instantiate and fit our model.\n",
    "regr = linear_model.LinearRegression()\n",
    "Y = fbi['Property crime_sqrt'].values.reshape(-1, 1)\n",
    "X = fbi[['Population_sqrt','Population','Population_log','Robbery','Murder']]\n",
    "regr.fit(X, Y)\n",
    "\n",
    "# Inspect the results.\n",
    "print('\\nCoefficients: \\n', regr.coef_)\n",
    "print('\\nIntercept: \\n', regr.intercept_)\n",
    "print('\\nR-squared:')\n",
    "print(regr.score(X, Y))\n",
    "\n",
    "# Extract predicted values.\n",
    "predicted = regr.predict(X).ravel()\n",
    "actual = fbi['Property crime_sqrt']\n",
    "\n",
    "# Calculate the error, also called the residual.\n",
    "residual = actual - predicted\n",
    "\n",
    "# This looks a bit concerning.\n",
    "plt.hist(residual)\n",
    "plt.title('Residual counts')\n",
    "plt.xlabel('Residual')\n",
    "plt.ylabel('Count')\n",
    "plt.show()\n",
    "\n",
    "plt.scatter(predicted, residual)\n",
    "plt.xlabel('Predicted')\n",
    "plt.ylabel('Residual')\n",
    "plt.axhline(y=0)\n",
    "plt.title('Residual vs. Predicted')\n",
    "plt.show()"
   ]
  },
  {
   "cell_type": "code",
   "execution_count": 12,
   "metadata": {},
   "outputs": [
    {
     "data": {
      "text/html": [
       "<div>\n",
       "<style scoped>\n",
       "    .dataframe tbody tr th:only-of-type {\n",
       "        vertical-align: middle;\n",
       "    }\n",
       "\n",
       "    .dataframe tbody tr th {\n",
       "        vertical-align: top;\n",
       "    }\n",
       "\n",
       "    .dataframe thead th {\n",
       "        text-align: right;\n",
       "    }\n",
       "</style>\n",
       "<table border=\"1\" class=\"dataframe\">\n",
       "  <thead>\n",
       "    <tr style=\"text-align: right;\">\n",
       "      <th></th>\n",
       "      <th>Population</th>\n",
       "      <th>Population_sq</th>\n",
       "      <th>Population_logsq</th>\n",
       "      <th>Robbery</th>\n",
       "      <th>Murder</th>\n",
       "    </tr>\n",
       "  </thead>\n",
       "  <tbody>\n",
       "    <tr>\n",
       "      <th>Population</th>\n",
       "      <td>1.000</td>\n",
       "      <td>0.938</td>\n",
       "      <td>0.908</td>\n",
       "      <td>0.486</td>\n",
       "      <td>0.465</td>\n",
       "    </tr>\n",
       "    <tr>\n",
       "      <th>Population_sq</th>\n",
       "      <td>0.938</td>\n",
       "      <td>1.000</td>\n",
       "      <td>0.733</td>\n",
       "      <td>0.358</td>\n",
       "      <td>0.471</td>\n",
       "    </tr>\n",
       "    <tr>\n",
       "      <th>Population_logsq</th>\n",
       "      <td>0.908</td>\n",
       "      <td>0.733</td>\n",
       "      <td>1.000</td>\n",
       "      <td>0.587</td>\n",
       "      <td>0.401</td>\n",
       "    </tr>\n",
       "    <tr>\n",
       "      <th>Robbery</th>\n",
       "      <td>0.486</td>\n",
       "      <td>0.358</td>\n",
       "      <td>0.587</td>\n",
       "      <td>1.000</td>\n",
       "      <td>0.275</td>\n",
       "    </tr>\n",
       "    <tr>\n",
       "      <th>Murder</th>\n",
       "      <td>0.465</td>\n",
       "      <td>0.471</td>\n",
       "      <td>0.401</td>\n",
       "      <td>0.275</td>\n",
       "      <td>1.000</td>\n",
       "    </tr>\n",
       "  </tbody>\n",
       "</table>\n",
       "</div>"
      ],
      "text/plain": [
       "                  Population  Population_sq  Population_logsq  Robbery  Murder\n",
       "Population             1.000          0.938             0.908    0.486   0.465\n",
       "Population_sq          0.938          1.000             0.733    0.358   0.471\n",
       "Population_logsq       0.908          0.733             1.000    0.587   0.401\n",
       "Robbery                0.486          0.358             0.587    1.000   0.275\n",
       "Murder                 0.465          0.471             0.401    0.275   1.000"
      ]
     },
     "metadata": {},
     "output_type": "display_data"
    }
   ],
   "source": [
    "correlation_matrix = X.corr()\n",
    "display(correlation_matrix)"
   ]
  },
  {
   "cell_type": "markdown",
   "metadata": {},
   "source": [
    "## Feature Engineering\n",
    "\n",
    "Exploring the data I didn't want to over expose the model to features. Some features gave the model ease of prediction. Here is the list of features and explanation of how it fits in the model.\n",
    "\n",
    "1. $\\sqrt{Property Crime}$: This may have a been one that will transform the equation significantly but the feature helped in finding outliers and normalizing the residuals. Making the model better and more predictive.\n",
    "\n",
    "2. $log(Population)$: This feature helped again normailize the population data to make it more suitable for the model. We also kept the normal Population data for a comparable model.\n",
    "\n",
    "3. $\\sqrt{Population}$: This feature was a standard feature. After more analysis it was added due to the transformation of the dependant variable.\n",
    "\n",
    "The biggest feature of the model is the $\\sqrt{Property Crime}$. This feature will change how the model is read and how the other features interact with it. Further details are to be explained in the final analysis."
   ]
  },
  {
   "cell_type": "markdown",
   "metadata": {},
   "source": [
    "# Model Analysis\n",
    "\n",
    "Our predictive model of Property Crime:\n",
    "\n",
    "$$\\sqrt{Property Crime} = -0.59 + 0.062\\sqrt{Population} + 0.00022Population + 0.22log(Population) + 4.21Murder + 3.04Robbery$$\n",
    "\n",
    "With the dependent variable feature we will adjust the equation to read more clearly by squaring both sides. Resulting in the following:\n",
    "\n",
    "$$Property Crime = -0.35 + 0.0038Population + 0.00022Population^2 + 0.048log(Population)^2 + 17.72Murder + 9.24Robbery$$\n",
    "\n",
    "Now we can clearly see how big a an influence Murder and Robbery are to property crim rates. By simply having a robbery or murder in the area there is an increase in  property crimes by 9 to 17 instances, repectively. Another thing to note is how the population does not impact property crime as much as it may seem. But when you are considering populations in bigger cities grow by the thousands this factor has significant impact. For instance, in the city of denver the population is currently growing by nearly 20%. This means that since 2010 until now the population grew by nearly 120,000. Applying our model, this would mean property crime has risen by 456 instances in the past few years. \n",
    "\n",
    "Now these results are certaintly not final, as there may be some correlations of population with some of the other variables (Murder & Robbery). Also, by having the Murder and Robbery variables as categorical and not continuous may change the resuls of the model. It may also give clearer results that apply more accurately. All of this analysis and modelling still cannot give us an answer to solve the issues of property crime. This analysis only tell us what is happenning in the area and what factors impact those occurences. "
   ]
  },
  {
   "cell_type": "code",
   "execution_count": null,
   "metadata": {},
   "outputs": [],
   "source": []
  }
 ],
 "metadata": {
  "kernelspec": {
   "display_name": "Python 3",
   "language": "python",
   "name": "python3"
  },
  "language_info": {
   "codemirror_mode": {
    "name": "ipython",
    "version": 3
   },
   "file_extension": ".py",
   "mimetype": "text/x-python",
   "name": "python",
   "nbconvert_exporter": "python",
   "pygments_lexer": "ipython3",
   "version": "3.7.1"
  }
 },
 "nbformat": 4,
 "nbformat_minor": 2
}
